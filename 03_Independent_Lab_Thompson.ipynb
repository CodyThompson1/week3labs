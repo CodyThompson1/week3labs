{
 "cells": [
  {
   "cell_type": "markdown",
   "id": "2cd5a620-6367-4d9b-b2c8-a595eb2f85fd",
   "metadata": {},
   "source": [
    "# Week 3 Independent Lab - Self-Service Kiosk Logic\n",
    "\n",
    "**Intro to Python**  \n",
    "**Self-Service Kiosk Logic**  \n",
    "**Cody Thompson**  \n",
    "**Date:** March 17, 2025\n",
    "\n",
    "Welcome to my notebook on the Self-Service Kiosk Logic! This notebook simulates a kiosk for purchasing ski resort tickets and season passes. Users can select products, specify quantities, and complete their order while receiving a total cost summary."
   ]
  },
  {
   "cell_type": "code",
   "execution_count": 2,
   "id": "beaa8874-6e2c-4b30-b02f-c0745444a887",
   "metadata": {},
   "outputs": [
    {
     "name": "stdout",
     "output_type": "stream",
     "text": [
      "Welcome! This kiosk sells tickets and passes for your local ski resort.\n",
      "Please place your order by selecting the product and subsequently providing the quantity desired.\n",
      "Here are the ticket options:\n",
      "\n",
      "|   | Product                        | Price   |\n",
      " 1 | Single Day Ticket - Weekday    | $50.0   \n",
      " 2 | Single Day Ticket - Weekend    | $78.0   \n",
      " 3 | Season Pass - Adult            | $469.0  \n",
      " 4 | Season Pass - Child            | $259.0  \n",
      " 5 | Season Pass - Senior           | $459.0  \n"
     ]
    },
    {
     "name": "stdin",
     "output_type": "stream",
     "text": [
      "\n",
      "What would you like to purchase? (1-5)\n",
      " 1\n",
      "How many would you like to purchase?\n",
      " 3\n"
     ]
    },
    {
     "name": "stdout",
     "output_type": "stream",
     "text": [
      "\n",
      "You want 3 of Single Day Ticket - Weekday.\n",
      "The current total for your order is $150.00\n"
     ]
    },
    {
     "name": "stdin",
     "output_type": "stream",
     "text": [
      "\n",
      "If you are finished ordering, please input 1; otherwise, if you would like to add to your order, please input 2.\n",
      " 2\n",
      "\n",
      "What would you like to purchase? (1-5)\n",
      " 4\n",
      "How many would you like to purchase?\n",
      " 1\n"
     ]
    },
    {
     "name": "stdout",
     "output_type": "stream",
     "text": [
      "\n",
      "You want 1 of Season Pass - Child.\n",
      "The current total for your order is $409.00\n"
     ]
    },
    {
     "name": "stdin",
     "output_type": "stream",
     "text": [
      "\n",
      "If you are finished ordering, please input 1; otherwise, if you would like to add to your order, please input 2.\n",
      " 1\n"
     ]
    },
    {
     "name": "stdout",
     "output_type": "stream",
     "text": [
      "\n",
      "Here is a summary of your final order:\n",
      "| Product                        | Quantity |\n",
      "Single Day Ticket - Weekday    | 3        \n",
      "Single Day Ticket - Weekend    | 0        \n",
      "Season Pass - Adult            | 0        \n",
      "Season Pass - Child            | 1        \n",
      "Season Pass - Senior           | 0        \n",
      "\n",
      "The total cost for your order is $409.00\n"
     ]
    }
   ],
   "source": [
    "# Step 1: Initialize product names and prices\n",
    "# We store the product names and their respective prices in dictionaries for easy access\n",
    "product_names = {\n",
    "    1: \"Single Day Ticket - Weekday\",\n",
    "    2: \"Single Day Ticket - Weekend\",\n",
    "    3: \"Season Pass - Adult\",\n",
    "    4: \"Season Pass - Child\",\n",
    "    5: \"Season Pass - Senior\"\n",
    "}\n",
    "\n",
    "product_prices = {\n",
    "    1: 50.00,  # Price for Single Day Ticket - Weekday\n",
    "    2: 78.00,  # Price for Single Day Ticket - Weekend\n",
    "    3: 469.00, # Price for Season Pass - Adult\n",
    "    4: 259.00, # Price for Season Pass - Child\n",
    "    5: 459.00  # Price for Season Pass - Senior\n",
    "}\n",
    "\n",
    "# Step 2: Initialize variables to track order details\n",
    "# `order` stores the quantities of each product ordered. Initially, all values are set to 0.\n",
    "order = {1: 0, 2: 0, 3: 0, 4: 0, 5: 0}  # Store quantities of products ordered\n",
    "total_cost = 0.00  # Initialize total cost of the order to 0.00\n",
    "\n",
    "# Step 3: Start the kiosk logic\n",
    "# Greet the user and display the menu\n",
    "print(\"Welcome! This kiosk sells tickets and passes for your local ski resort.\")\n",
    "print(\"Please place your order by selecting the product and subsequently providing the quantity desired.\")\n",
    "print(\"Here are the ticket options:\\n\")\n",
    "\n",
    "# Print the product options and their prices\n",
    "# Loop through the product names and prices, formatted for display\n",
    "print(\"|   | Product                        | Price   |\")\n",
    "for i in range(1, 6):\n",
    "    print(f\" {i} | {product_names[i]:<30} | ${product_prices[i]:<7}\")\n",
    "\n",
    "# Step 4: Start infinite loop for continuous order input\n",
    "while True:\n",
    "    # Ask the user to select a product from the available options\n",
    "    try:\n",
    "        # Convert the user input to an integer\n",
    "        product_choice = int(input(\"\\nWhat would you like to purchase? (1-5)\\n\"))\n",
    "        # Validate the product choice (1-5), prompt again if invalid\n",
    "        if product_choice not in range(1, 6):\n",
    "            print(\"That is not an option. Please try again.\")\n",
    "            continue\n",
    "    except ValueError:\n",
    "        # If the user does not enter an integer, print error message\n",
    "        print(\"Invalid input. Please enter a number between 1 and 5.\")\n",
    "        continue\n",
    "\n",
    "    # Step 5: Ask for the quantity of the selected product\n",
    "    try:\n",
    "        # Convert the user input to an integer\n",
    "        quantity = int(input(\"How many would you like to purchase?\\n\"))\n",
    "        # Validate the quantity to ensure it is greater than 0\n",
    "        if quantity < 1:\n",
    "            print(\"Please enter a valid quantity greater than 0.\")\n",
    "            continue\n",
    "    except ValueError:\n",
    "        # If the user does not enter a valid number for quantity, print error message\n",
    "        print(\"Invalid input. Please enter a number.\")\n",
    "        continue\n",
    "\n",
    "    # Step 6: Update the order and total cost based on the selected product and quantity\n",
    "    order[product_choice] += quantity  # Update the quantity of the selected product\n",
    "    total_cost += product_prices[product_choice] * quantity  # Add to the total cost\n",
    "\n",
    "    # Display the current product and total cost after the selection\n",
    "    print(f\"\\nYou want {quantity} of {product_names[product_choice]}.\")\n",
    "    print(f\"The current total for your order is ${total_cost:.2f}\")\n",
    "\n",
    "    # Step 7: Ask if the user wants to continue ordering or complete the order\n",
    "    finish_order = input(\"\\nIf you are finished ordering, please input 1; otherwise, if you would like to add to your order, please input 2.\\n\")\n",
    "    \n",
    "    # If user wants to finish, exit the loop\n",
    "    if finish_order == '1':\n",
    "        break\n",
    "    # If user chooses to add more items, continue the loop\n",
    "    elif finish_order != '2':\n",
    "        print(\"Invalid option. Please enter 1 to finish or 2 to add more items.\")\n",
    "\n",
    "# Step 8: Display the final order summary\n",
    "# Once the user finishes ordering, show a summary of the items ordered\n",
    "print(\"\\nHere is a summary of your final order:\")\n",
    "print(\"| Product                        | Quantity |\")\n",
    "# Loop through each product to display the quantities ordered\n",
    "for i in range(1, 6):\n",
    "    print(f\"{product_names[i]:<30} | {order[i]:<9}\")\n",
    "\n",
    "# Display the total cost of the order\n",
    "print(f\"\\nThe total cost for your order is ${total_cost:.2f}\")\n"
   ]
  },
  {
   "cell_type": "code",
   "execution_count": null,
   "id": "15b297b7-e8cd-43f1-a86d-9c876ec40fff",
   "metadata": {},
   "outputs": [],
   "source": []
  }
 ],
 "metadata": {
  "kernelspec": {
   "display_name": "Python 3 (ipykernel)",
   "language": "python",
   "name": "python3"
  },
  "language_info": {
   "codemirror_mode": {
    "name": "ipython",
    "version": 3
   },
   "file_extension": ".py",
   "mimetype": "text/x-python",
   "name": "python",
   "nbconvert_exporter": "python",
   "pygments_lexer": "ipython3",
   "version": "3.12.7"
  }
 },
 "nbformat": 4,
 "nbformat_minor": 5
}
