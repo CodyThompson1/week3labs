{
 "cells": [
  {
   "cell_type": "markdown",
   "id": "c7e371c6-cafa-4ed0-a63f-4008052b3944",
   "metadata": {},
   "source": [
    "# Week 3 Instructor-led Lab - Celsius to Fahrenheit and Kelvin Conversion\n",
    "\n",
    "**Intro to Python** \n",
    "**Celsius to Fahrenheit and Kelvin Conversion**  \n",
    "**Cody Thompson** \n",
    "**Date:** March 17, 2025\n",
    "\n",
    "Welcome to my notebook on converting Celsius to Fahrenheit and Kelvin!\n"
   ]
  },
  {
   "cell_type": "code",
   "execution_count": 1,
   "id": "d226c830-6116-4bee-b229-daf7d5a43da6",
   "metadata": {},
   "outputs": [
    {
     "name": "stdin",
     "output_type": "stream",
     "text": [
      "Please provide a value, in Celsius, to convert:\n",
      " -40\n"
     ]
    },
    {
     "name": "stdout",
     "output_type": "stream",
     "text": [
      "-40.0 degrees Celsius is -40.0 degrees Fahrenheit which is 233.14999999999998 degrees Kelvin.\n"
     ]
    },
    {
     "name": "stdin",
     "output_type": "stream",
     "text": [
      "Please provide another value, in Celsius, to convert:\n",
      " 0\n"
     ]
    },
    {
     "name": "stdout",
     "output_type": "stream",
     "text": [
      "Second set of values: 0.0 degrees Celsius is 32.0 degrees Fahrenheit which is 273.15 degrees Kelvin.\n",
      "The original Celsius value of -40.0 is smaller than the new value of 0.0.\n",
      "The original Fahrenheit value of -40.0 is smaller than the new value of 32.0.\n",
      "The original Kelvin value of 233.14999999999998 is less than or equal to the new value of 273.15.\n",
      "celsius == celsius_two and fahrenheit < fahrenheit_two\n",
      "Python lies.\n",
      "celsius == celsius_two or kelvin != kelvin_two\n",
      "Python speaks the truth!\n"
     ]
    }
   ],
   "source": [
    "# Step 1: Initialize variables\n",
    "celsius = 0.0  # Celsius temperature, initially set to 0\n",
    "fahrenheit = 0.0  # Fahrenheit temperature, initially set to 0\n",
    "kelvin = 0.0  # Kelvin temperature, initially set to 0\n",
    "\n",
    "# Step 2: Get input from the user for Celsius\n",
    "# Prompt the user to enter a value for Celsius and convert the input to a float\n",
    "celsius = float(input(\"Please provide a value, in Celsius, to convert:\\n\"))\n",
    "\n",
    "# Step 3: Convert Celsius to Fahrenheit\n",
    "# Formula to convert Celsius to Fahrenheit: (9/5) * Celsius + 32\n",
    "fahrenheit = (9 / 5) * celsius + 32\n",
    "\n",
    "# Step 4: Convert Celsius to Kelvin\n",
    "# Formula to convert Celsius to Kelvin: Celsius + 273.15\n",
    "kelvin = celsius + 273.15\n",
    "\n",
    "# Output the result for Celsius, Fahrenheit, and Kelvin\n",
    "# Display the converted values using string interpolation\n",
    "print(f\"{celsius} degrees Celsius is {fahrenheit} degrees Fahrenheit which is {kelvin} degrees Kelvin.\")\n",
    "\n",
    "# Step 5: Get second input from the user for Celsius\n",
    "# Prompt the user to enter a second value for Celsius and convert to float\n",
    "celsius_two = float(input(\"Please provide another value, in Celsius, to convert:\\n\"))\n",
    "\n",
    "# Convert the second Celsius value to Fahrenheit and Kelvin\n",
    "fahrenheit_two = (9 / 5) * celsius_two + 32  # Convert to Fahrenheit\n",
    "kelvin_two = celsius_two + 273.15  # Convert to Kelvin\n",
    "\n",
    "# Output the second set of converted values\n",
    "print(f\"Second set of values: {celsius_two} degrees Celsius is {fahrenheit_two} degrees Fahrenheit which is {kelvin_two} degrees Kelvin.\")\n",
    "\n",
    "# Step 6: Comparison of values between the first and second sets of values\n",
    "# Compare the Celsius values\n",
    "if celsius > celsius_two:\n",
    "    print(f\"The original Celsius value of {celsius} is larger than the new value of {celsius_two}.\")\n",
    "elif celsius < celsius_two:\n",
    "    print(f\"The original Celsius value of {celsius} is smaller than the new value of {celsius_two}.\")\n",
    "else:\n",
    "    print(f\"The original Celsius value of {celsius} equals the new value of {celsius_two}.\")\n",
    "\n",
    "# Compare the Fahrenheit values\n",
    "if fahrenheit >= fahrenheit_two:\n",
    "    print(f\"The original Fahrenheit value of {fahrenheit} is greater than or equal to the new value of {fahrenheit_two}.\")\n",
    "elif fahrenheit < fahrenheit_two:\n",
    "    print(f\"The original Fahrenheit value of {fahrenheit} is smaller than the new value of {fahrenheit_two}.\")\n",
    "else:\n",
    "    print(f\"The original Fahrenheit value of {fahrenheit} equals the new value of {fahrenheit_two}.\")\n",
    "\n",
    "# Compare the Kelvin values\n",
    "if kelvin <= kelvin_two:\n",
    "    print(f\"The original Kelvin value of {kelvin} is less than or equal to the new value of {kelvin_two}.\")\n",
    "elif kelvin < kelvin_two:\n",
    "    print(f\"The original Kelvin value of {kelvin} is smaller than the new value of {kelvin_two}.\")\n",
    "else:\n",
    "    print(f\"The original Kelvin value of {kelvin} is not equal to the new value of {kelvin_two}.\")\n",
    "\n",
    "# Step 7: Logical Operators - Using 'and' and 'or' to combine comparisons\n",
    "print(\"celsius == celsius_two and fahrenheit < fahrenheit_two\")  # Output what comparison is being made\n",
    "# Check if both conditions are true: Celsius comparison and Fahrenheit comparison using 'and'\n",
    "if celsius == celsius_two and fahrenheit < fahrenheit_two:\n",
    "    print(\"Python speaks the truth!\")\n",
    "else:\n",
    "    print(\"Python lies.\")\n",
    "\n",
    "print(\"celsius == celsius_two or kelvin != kelvin_two\")  # Output what comparison is being made\n",
    "# Check if either condition is true: Celsius comparison or Kelvin comparison using 'or'\n",
    "if celsius == celsius_two or kelvin != kelvin_two:\n",
    "    print(\"Python speaks the truth!\")\n",
    "else:\n",
    "    print(\"Python lies.\")\n"
   ]
  },
  {
   "cell_type": "code",
   "execution_count": null,
   "id": "a96a214c-0487-41cc-bdda-254118538f14",
   "metadata": {},
   "outputs": [],
   "source": []
  }
 ],
 "metadata": {
  "kernelspec": {
   "display_name": "Python 3 (ipykernel)",
   "language": "python",
   "name": "python3"
  },
  "language_info": {
   "codemirror_mode": {
    "name": "ipython",
    "version": 3
   },
   "file_extension": ".py",
   "mimetype": "text/x-python",
   "name": "python",
   "nbconvert_exporter": "python",
   "pygments_lexer": "ipython3",
   "version": "3.12.7"
  }
 },
 "nbformat": 4,
 "nbformat_minor": 5
}
